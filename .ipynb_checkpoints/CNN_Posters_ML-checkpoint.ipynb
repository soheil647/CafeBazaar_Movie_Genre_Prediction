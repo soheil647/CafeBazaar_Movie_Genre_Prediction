{
 "cells": [
  {
   "cell_type": "code",
   "execution_count": 18,
   "metadata": {
    "colab": {
     "base_uri": "https://localhost:8080/",
     "height": 568
    },
    "id": "x9ppdPz5rNSG",
    "outputId": "72fa6984-8cac-484d-86d6-6f47c2e22576"
   },
   "outputs": [
    {
     "data": {
      "text/html": [
       "<div>\n",
       "<style scoped>\n",
       "    .dataframe tbody tr th:only-of-type {\n",
       "        vertical-align: middle;\n",
       "    }\n",
       "\n",
       "    .dataframe tbody tr th {\n",
       "        vertical-align: top;\n",
       "    }\n",
       "\n",
       "    .dataframe thead th {\n",
       "        text-align: right;\n",
       "    }\n",
       "</style>\n",
       "<table border=\"1\" class=\"dataframe\">\n",
       "  <thead>\n",
       "    <tr style=\"text-align: right;\">\n",
       "      <th></th>\n",
       "      <th>video_id</th>\n",
       "      <th>title_fa</th>\n",
       "      <th>description_fa</th>\n",
       "      <th>age_rating</th>\n",
       "      <th>country_fa</th>\n",
       "      <th>production_year</th>\n",
       "      <th>duration</th>\n",
       "      <th>genre</th>\n",
       "      <th>image</th>\n",
       "    </tr>\n",
       "  </thead>\n",
       "  <tbody>\n",
       "    <tr>\n",
       "      <th>0</th>\n",
       "      <td>_WuOoL_filimo</td>\n",
       "      <td>نیش</td>\n",
       "      <td>همسر و فرزند خردسال یك سروان نیروی انتظامی، كه...</td>\n",
       "      <td>0.0</td>\n",
       "      <td>ایران</td>\n",
       "      <td>1994.0</td>\n",
       "      <td>01:27:22</td>\n",
       "      <td>action</td>\n",
       "      <td>videos_covers_066f34bc-aaeb-4c74-a78c-83f0250c...</td>\n",
       "    </tr>\n",
       "    <tr>\n",
       "      <th>1</th>\n",
       "      <td>yIaxeg8x</td>\n",
       "      <td>سرگذشت حقیقی دار و دسته کلی</td>\n",
       "      <td>درباره فیلم سرگذشت حقیقی دار و دسته کلی  فیلم ...</td>\n",
       "      <td></td>\n",
       "      <td>انگلستان</td>\n",
       "      <td>2020.0</td>\n",
       "      <td>01:46:00</td>\n",
       "      <td>drama</td>\n",
       "      <td>videos_covers_c36937ab-5b60-44f0-8152-01bc6ae6...</td>\n",
       "    </tr>\n",
       "    <tr>\n",
       "      <th>2</th>\n",
       "      <td>King_Arthur-Legend_of_the_Sword_4d6P2_filimo</td>\n",
       "      <td>شاه آرتور - افسانه شمشیر</td>\n",
       "      <td>آرتور، مرد جوانی است که در دوران کودکی دزدیده ...</td>\n",
       "      <td>0.0</td>\n",
       "      <td>آمریکا</td>\n",
       "      <td>2017.0</td>\n",
       "      <td>02:04:29</td>\n",
       "      <td>action</td>\n",
       "      <td>videos_covers_128fef8c-2a5a-417e-9061-7d06864f...</td>\n",
       "    </tr>\n",
       "    <tr>\n",
       "      <th>3</th>\n",
       "      <td>TJAkVhmb</td>\n",
       "      <td>تارزان و جین</td>\n",
       "      <td>انیمیشن تارزان و جین به ماجرای تارزان و آشنایی...</td>\n",
       "      <td>7.0</td>\n",
       "      <td>آمریکا</td>\n",
       "      <td>2017.0</td>\n",
       "      <td></td>\n",
       "      <td>adventure</td>\n",
       "      <td>videos_covers_f0b8492b-5e94-4cc4-9bec-dcf93e08...</td>\n",
       "    </tr>\n",
       "    <tr>\n",
       "      <th>4</th>\n",
       "      <td>Life_Cycles_0ym29_filimo</td>\n",
       "      <td>چرخ عمر</td>\n",
       "      <td>مستند چرخ عمر داستانی در مورد یک دوچرخه کوهستا...</td>\n",
       "      <td>13.0</td>\n",
       "      <td>کانادا</td>\n",
       "      <td>2010.0</td>\n",
       "      <td>00:46:58</td>\n",
       "      <td>documentary</td>\n",
       "      <td>videos_covers_965f947c-ee7d-4851-9fa5-ba303524...</td>\n",
       "    </tr>\n",
       "    <tr>\n",
       "      <th>...</th>\n",
       "      <td>...</td>\n",
       "      <td>...</td>\n",
       "      <td>...</td>\n",
       "      <td>...</td>\n",
       "      <td>...</td>\n",
       "      <td>...</td>\n",
       "      <td>...</td>\n",
       "      <td>...</td>\n",
       "      <td>...</td>\n",
       "    </tr>\n",
       "    <tr>\n",
       "      <th>10995</th>\n",
       "      <td>_omrwa_filimo</td>\n",
       "      <td>می خواهم زنده بمانم</td>\n",
       "      <td>اصلان  و ماه منیر  به خاطر اختلافات طلاق میگیر...</td>\n",
       "      <td>13.0</td>\n",
       "      <td>ایران</td>\n",
       "      <td>1994.0</td>\n",
       "      <td>01:47:06</td>\n",
       "      <td>family</td>\n",
       "      <td>videos_covers_ff8d33fb-7de2-453d-8fad-333affbd...</td>\n",
       "    </tr>\n",
       "    <tr>\n",
       "      <th>10996</th>\n",
       "      <td>Momentum_3y5bP_filimo</td>\n",
       "      <td>مقدار حرکت</td>\n",
       "      <td>در فیلم مقدار حرکت، هنگامی که یک دزد مرموز توس...</td>\n",
       "      <td>17.0</td>\n",
       "      <td>آفریقای جنوبی</td>\n",
       "      <td>2015.0</td>\n",
       "      <td>01:35:34</td>\n",
       "      <td>thriller</td>\n",
       "      <td>videos_covers_98ffbfe4-affa-456e-82cd-7251e80c...</td>\n",
       "    </tr>\n",
       "    <tr>\n",
       "      <th>10997</th>\n",
       "      <td>U8vw2P8R</td>\n",
       "      <td>گناهکار ذاتی</td>\n",
       "      <td>فیلم گناهکار ذاتی به کارگردانی سویی کوآن لی و ...</td>\n",
       "      <td>17.0</td>\n",
       "      <td>هنگ کنگ</td>\n",
       "      <td>2019.0</td>\n",
       "      <td>01:31:20</td>\n",
       "      <td>action</td>\n",
       "      <td>videos_covers_4de8ba64-339e-43dd-996b-4379a101...</td>\n",
       "    </tr>\n",
       "    <tr>\n",
       "      <th>10998</th>\n",
       "      <td>L_aveu_7YxLp_filimo</td>\n",
       "      <td>اعتراف</td>\n",
       "      <td>در چکسلواکی کمونیست ۱۹۵۰  یک وزیر و یک قهرمان ...</td>\n",
       "      <td>17.0</td>\n",
       "      <td>فرانسه</td>\n",
       "      <td>1970.0</td>\n",
       "      <td>01:56:16</td>\n",
       "      <td>social</td>\n",
       "      <td>videos_covers_7e88e403-b2fb-4560-b346-055433a6...</td>\n",
       "    </tr>\n",
       "    <tr>\n",
       "      <th>10999</th>\n",
       "      <td>ORRLCkEF</td>\n",
       "      <td>مالاسانا ۳۲</td>\n",
       "      <td>فیلم مالاسانا ۳۲ به کارگردانی آلبرت پینتو در س...</td>\n",
       "      <td>17.0</td>\n",
       "      <td>اسپانیا</td>\n",
       "      <td>2020.0</td>\n",
       "      <td>01:19:46</td>\n",
       "      <td>thriller</td>\n",
       "      <td>videos_covers_52b7f53b-1573-4a3d-8ae4-ebc852e7...</td>\n",
       "    </tr>\n",
       "  </tbody>\n",
       "</table>\n",
       "<p>11000 rows × 9 columns</p>\n",
       "</div>"
      ],
      "text/plain": [
       "                                           video_id  \\\n",
       "0                                     _WuOoL_filimo   \n",
       "1                                          yIaxeg8x   \n",
       "2      King_Arthur-Legend_of_the_Sword_4d6P2_filimo   \n",
       "3                                          TJAkVhmb   \n",
       "4                          Life_Cycles_0ym29_filimo   \n",
       "...                                             ...   \n",
       "10995                                 _omrwa_filimo   \n",
       "10996                         Momentum_3y5bP_filimo   \n",
       "10997                                      U8vw2P8R   \n",
       "10998                           L_aveu_7YxLp_filimo   \n",
       "10999                                      ORRLCkEF   \n",
       "\n",
       "                          title_fa  \\\n",
       "0                              نیش   \n",
       "1      سرگذشت حقیقی دار و دسته کلی   \n",
       "2         شاه آرتور - افسانه شمشیر   \n",
       "3                     تارزان و جین   \n",
       "4                          چرخ عمر   \n",
       "...                            ...   \n",
       "10995          می خواهم زنده بمانم   \n",
       "10996                   مقدار حرکت   \n",
       "10997                 گناهکار ذاتی   \n",
       "10998                       اعتراف   \n",
       "10999                  مالاسانا ۳۲   \n",
       "\n",
       "                                          description_fa age_rating  \\\n",
       "0      همسر و فرزند خردسال یك سروان نیروی انتظامی، كه...        0.0   \n",
       "1      درباره فیلم سرگذشت حقیقی دار و دسته کلی  فیلم ...              \n",
       "2      آرتور، مرد جوانی است که در دوران کودکی دزدیده ...        0.0   \n",
       "3      انیمیشن تارزان و جین به ماجرای تارزان و آشنایی...        7.0   \n",
       "4      مستند چرخ عمر داستانی در مورد یک دوچرخه کوهستا...       13.0   \n",
       "...                                                  ...        ...   \n",
       "10995  اصلان  و ماه منیر  به خاطر اختلافات طلاق میگیر...       13.0   \n",
       "10996  در فیلم مقدار حرکت، هنگامی که یک دزد مرموز توس...       17.0   \n",
       "10997  فیلم گناهکار ذاتی به کارگردانی سویی کوآن لی و ...       17.0   \n",
       "10998  در چکسلواکی کمونیست ۱۹۵۰  یک وزیر و یک قهرمان ...       17.0   \n",
       "10999  فیلم مالاسانا ۳۲ به کارگردانی آلبرت پینتو در س...       17.0   \n",
       "\n",
       "          country_fa production_year  duration        genre  \\\n",
       "0              ایران          1994.0  01:27:22       action   \n",
       "1           انگلستان          2020.0  01:46:00        drama   \n",
       "2             آمریکا          2017.0  02:04:29       action   \n",
       "3             آمریکا          2017.0              adventure   \n",
       "4             کانادا          2010.0  00:46:58  documentary   \n",
       "...              ...             ...       ...          ...   \n",
       "10995          ایران          1994.0  01:47:06       family   \n",
       "10996  آفریقای جنوبی          2015.0  01:35:34     thriller   \n",
       "10997        هنگ کنگ          2019.0  01:31:20       action   \n",
       "10998         فرانسه          1970.0  01:56:16       social   \n",
       "10999        اسپانیا          2020.0  01:19:46     thriller   \n",
       "\n",
       "                                                   image  \n",
       "0      videos_covers_066f34bc-aaeb-4c74-a78c-83f0250c...  \n",
       "1      videos_covers_c36937ab-5b60-44f0-8152-01bc6ae6...  \n",
       "2      videos_covers_128fef8c-2a5a-417e-9061-7d06864f...  \n",
       "3      videos_covers_f0b8492b-5e94-4cc4-9bec-dcf93e08...  \n",
       "4      videos_covers_965f947c-ee7d-4851-9fa5-ba303524...  \n",
       "...                                                  ...  \n",
       "10995  videos_covers_ff8d33fb-7de2-453d-8fad-333affbd...  \n",
       "10996  videos_covers_98ffbfe4-affa-456e-82cd-7251e80c...  \n",
       "10997  videos_covers_4de8ba64-339e-43dd-996b-4379a101...  \n",
       "10998  videos_covers_7e88e403-b2fb-4560-b346-055433a6...  \n",
       "10999  videos_covers_52b7f53b-1573-4a3d-8ae4-ebc852e7...  \n",
       "\n",
       "[11000 rows x 9 columns]"
      ]
     },
     "metadata": {},
     "output_type": "display_data"
    }
   ],
   "source": [
    "import pandas as pd\n",
    "dataset = pd.read_csv('train_set.csv')\n",
    "display(dataset)"
   ]
  },
  {
   "cell_type": "code",
   "execution_count": null,
   "metadata": {},
   "outputs": [],
   "source": [
    "import os\n",
    "import matplotlib.pyplot as plt\n",
    "def add_image(row):\n",
    "    image_name = row.image\n",
    "    image_name = 'train_set/' + image_name\n",
    "    img = plt.imread(image_name)\n",
    "    row['image_value'] = img\n",
    "    return row\n",
    "\n",
    "\n",
    "dataset = dataset.apply(lambda x: add_image(x), axis=1)\n",
    "# dataset['image_arr'] = plt.imread('train_set/' + dataset['image'])\n",
    "dataset"
   ]
  },
  {
   "cell_type": "code",
   "execution_count": 160,
   "metadata": {
    "id": "vU3n1jCGomlN"
   },
   "outputs": [],
   "source": [
    "def preprocess(img, size=(150, 101, 3)):\n",
    "    img = skimage.transform.resize(img, size)\n",
    "    img = img.astype(np.float32)\n",
    "    img = (img / 255)\n",
    "    return img\n",
    "\n",
    "\n",
    "dataset.image_value = preprocess(dataset.image_value)\n",
    "dataset"
   ]
  },
  {
   "cell_type": "code",
   "execution_count": 166,
   "metadata": {
    "colab": {
     "base_uri": "https://localhost:8080/",
     "height": 494
    },
    "id": "gfwEl6iZOSbU",
    "outputId": "fa172e7b-9b8c-4c3c-de0c-175ea464e6b0"
   },
   "outputs": [
    {
     "name": "stdout",
     "output_type": "stream",
     "text": [
      "(525, 420, 3)\n",
      "(150, 101, 3)\n",
      "(150, 101, 3)\n"
     ]
    },
    {
     "name": "stderr",
     "output_type": "stream",
     "text": [
      "/usr/local/lib/python3.6/dist-packages/pandas/core/indexing.py:670: SettingWithCopyWarning: \n",
      "A value is trying to be set on a copy of a slice from a DataFrame\n",
      "\n",
      "See the caveats in the documentation: https://pandas.pydata.org/pandas-docs/stable/user_guide/indexing.html#returning-a-view-versus-a-copy\n",
      "  iloc._setitem_with_indexer(indexer, value)\n"
     ]
    },
    {
     "ename": "ValueError",
     "evalue": "ignored",
     "output_type": "error",
     "traceback": [
      "\u001b[0;31m---------------------------------------------------------------------------\u001b[0m",
      "\u001b[0;31mValueError\u001b[0m                                Traceback (most recent call last)",
      "\u001b[0;32m<ipython-input-166-c4dd73c0ae2a>\u001b[0m in \u001b[0;36m<module>\u001b[0;34m()\u001b[0m\n\u001b[1;32m     11\u001b[0m       \u001b[0mdf\u001b[0m\u001b[0;34m[\u001b[0m\u001b[0;34m'img_arr'\u001b[0m\u001b[0;34m]\u001b[0m\u001b[0;34m.\u001b[0m\u001b[0mloc\u001b[0m\u001b[0;34m[\u001b[0m\u001b[0mdf\u001b[0m\u001b[0;34m.\u001b[0m\u001b[0mimage\u001b[0m \u001b[0;34m==\u001b[0m \u001b[0mfilename\u001b[0m\u001b[0;34m]\u001b[0m \u001b[0;34m=\u001b[0m \u001b[0mcv2\u001b[0m\u001b[0;34m.\u001b[0m\u001b[0mcvtColor\u001b[0m\u001b[0;34m(\u001b[0m\u001b[0mimg\u001b[0m\u001b[0;34m,\u001b[0m \u001b[0mcv2\u001b[0m\u001b[0;34m.\u001b[0m\u001b[0mCOLOR_BGR2RGB\u001b[0m\u001b[0;34m)\u001b[0m\u001b[0;34m\u001b[0m\u001b[0;34m\u001b[0m\u001b[0m\n\u001b[1;32m     12\u001b[0m   \u001b[0;32mreturn\u001b[0m \u001b[0mdf\u001b[0m\u001b[0;34m\u001b[0m\u001b[0;34m\u001b[0m\u001b[0m\n\u001b[0;32m---> 13\u001b[0;31m \u001b[0mdf2\u001b[0m \u001b[0;34m=\u001b[0m \u001b[0mmake_new_df\u001b[0m\u001b[0;34m(\u001b[0m\u001b[0mdf2\u001b[0m\u001b[0;34m,\u001b[0m \u001b[0mpath\u001b[0m\u001b[0;34m)\u001b[0m\u001b[0;34m\u001b[0m\u001b[0;34m\u001b[0m\u001b[0m\n\u001b[0m",
      "\u001b[0;32m<ipython-input-166-c4dd73c0ae2a>\u001b[0m in \u001b[0;36mmake_new_df\u001b[0;34m(df, folder)\u001b[0m\n\u001b[1;32m      9\u001b[0m     \u001b[0;32mif\u001b[0m \u001b[0mimg\u001b[0m \u001b[0;32mis\u001b[0m \u001b[0;32mnot\u001b[0m \u001b[0;32mNone\u001b[0m\u001b[0;34m:\u001b[0m\u001b[0;34m\u001b[0m\u001b[0;34m\u001b[0m\u001b[0m\n\u001b[1;32m     10\u001b[0m       \u001b[0mprint\u001b[0m\u001b[0;34m(\u001b[0m\u001b[0mcv2\u001b[0m\u001b[0;34m.\u001b[0m\u001b[0mcvtColor\u001b[0m\u001b[0;34m(\u001b[0m\u001b[0mimg\u001b[0m\u001b[0;34m,\u001b[0m \u001b[0mcv2\u001b[0m\u001b[0;34m.\u001b[0m\u001b[0mCOLOR_BGR2RGB\u001b[0m\u001b[0;34m)\u001b[0m\u001b[0;34m.\u001b[0m\u001b[0mshape\u001b[0m\u001b[0;34m)\u001b[0m\u001b[0;34m\u001b[0m\u001b[0;34m\u001b[0m\u001b[0m\n\u001b[0;32m---> 11\u001b[0;31m       \u001b[0mdf\u001b[0m\u001b[0;34m[\u001b[0m\u001b[0;34m'img_arr'\u001b[0m\u001b[0;34m]\u001b[0m\u001b[0;34m.\u001b[0m\u001b[0mloc\u001b[0m\u001b[0;34m[\u001b[0m\u001b[0mdf\u001b[0m\u001b[0;34m.\u001b[0m\u001b[0mimage\u001b[0m \u001b[0;34m==\u001b[0m \u001b[0mfilename\u001b[0m\u001b[0;34m]\u001b[0m \u001b[0;34m=\u001b[0m \u001b[0mcv2\u001b[0m\u001b[0;34m.\u001b[0m\u001b[0mcvtColor\u001b[0m\u001b[0;34m(\u001b[0m\u001b[0mimg\u001b[0m\u001b[0;34m,\u001b[0m \u001b[0mcv2\u001b[0m\u001b[0;34m.\u001b[0m\u001b[0mCOLOR_BGR2RGB\u001b[0m\u001b[0;34m)\u001b[0m\u001b[0;34m\u001b[0m\u001b[0;34m\u001b[0m\u001b[0m\n\u001b[0m\u001b[1;32m     12\u001b[0m   \u001b[0;32mreturn\u001b[0m \u001b[0mdf\u001b[0m\u001b[0;34m\u001b[0m\u001b[0;34m\u001b[0m\u001b[0m\n\u001b[1;32m     13\u001b[0m \u001b[0mdf2\u001b[0m \u001b[0;34m=\u001b[0m \u001b[0mmake_new_df\u001b[0m\u001b[0;34m(\u001b[0m\u001b[0mdf2\u001b[0m\u001b[0;34m,\u001b[0m \u001b[0mpath\u001b[0m\u001b[0;34m)\u001b[0m\u001b[0;34m\u001b[0m\u001b[0;34m\u001b[0m\u001b[0m\n",
      "\u001b[0;32m/usr/local/lib/python3.6/dist-packages/pandas/core/indexing.py\u001b[0m in \u001b[0;36m__setitem__\u001b[0;34m(self, key, value)\u001b[0m\n\u001b[1;32m    668\u001b[0m \u001b[0;34m\u001b[0m\u001b[0m\n\u001b[1;32m    669\u001b[0m         \u001b[0miloc\u001b[0m \u001b[0;34m=\u001b[0m \u001b[0mself\u001b[0m \u001b[0;32mif\u001b[0m \u001b[0mself\u001b[0m\u001b[0;34m.\u001b[0m\u001b[0mname\u001b[0m \u001b[0;34m==\u001b[0m \u001b[0;34m\"iloc\"\u001b[0m \u001b[0;32melse\u001b[0m \u001b[0mself\u001b[0m\u001b[0;34m.\u001b[0m\u001b[0mobj\u001b[0m\u001b[0;34m.\u001b[0m\u001b[0miloc\u001b[0m\u001b[0;34m\u001b[0m\u001b[0;34m\u001b[0m\u001b[0m\n\u001b[0;32m--> 670\u001b[0;31m         \u001b[0miloc\u001b[0m\u001b[0;34m.\u001b[0m\u001b[0m_setitem_with_indexer\u001b[0m\u001b[0;34m(\u001b[0m\u001b[0mindexer\u001b[0m\u001b[0;34m,\u001b[0m \u001b[0mvalue\u001b[0m\u001b[0;34m)\u001b[0m\u001b[0;34m\u001b[0m\u001b[0;34m\u001b[0m\u001b[0m\n\u001b[0m\u001b[1;32m    671\u001b[0m \u001b[0;34m\u001b[0m\u001b[0m\n\u001b[1;32m    672\u001b[0m     \u001b[0;32mdef\u001b[0m \u001b[0m_validate_key\u001b[0m\u001b[0;34m(\u001b[0m\u001b[0mself\u001b[0m\u001b[0;34m,\u001b[0m \u001b[0mkey\u001b[0m\u001b[0;34m,\u001b[0m \u001b[0maxis\u001b[0m\u001b[0;34m:\u001b[0m \u001b[0mint\u001b[0m\u001b[0;34m)\u001b[0m\u001b[0;34m:\u001b[0m\u001b[0;34m\u001b[0m\u001b[0;34m\u001b[0m\u001b[0m\n",
      "\u001b[0;32m/usr/local/lib/python3.6/dist-packages/pandas/core/indexing.py\u001b[0m in \u001b[0;36m_setitem_with_indexer\u001b[0;34m(self, indexer, value)\u001b[0m\n\u001b[1;32m   1798\u001b[0m             \u001b[0;31m# actually do the set\u001b[0m\u001b[0;34m\u001b[0m\u001b[0;34m\u001b[0m\u001b[0;34m\u001b[0m\u001b[0m\n\u001b[1;32m   1799\u001b[0m             \u001b[0mself\u001b[0m\u001b[0;34m.\u001b[0m\u001b[0mobj\u001b[0m\u001b[0;34m.\u001b[0m\u001b[0m_consolidate_inplace\u001b[0m\u001b[0;34m(\u001b[0m\u001b[0;34m)\u001b[0m\u001b[0;34m\u001b[0m\u001b[0;34m\u001b[0m\u001b[0m\n\u001b[0;32m-> 1800\u001b[0;31m             \u001b[0mself\u001b[0m\u001b[0;34m.\u001b[0m\u001b[0mobj\u001b[0m\u001b[0;34m.\u001b[0m\u001b[0m_mgr\u001b[0m \u001b[0;34m=\u001b[0m \u001b[0mself\u001b[0m\u001b[0;34m.\u001b[0m\u001b[0mobj\u001b[0m\u001b[0;34m.\u001b[0m\u001b[0m_mgr\u001b[0m\u001b[0;34m.\u001b[0m\u001b[0msetitem\u001b[0m\u001b[0;34m(\u001b[0m\u001b[0mindexer\u001b[0m\u001b[0;34m=\u001b[0m\u001b[0mindexer\u001b[0m\u001b[0;34m,\u001b[0m \u001b[0mvalue\u001b[0m\u001b[0;34m=\u001b[0m\u001b[0mvalue\u001b[0m\u001b[0;34m)\u001b[0m\u001b[0;34m\u001b[0m\u001b[0;34m\u001b[0m\u001b[0m\n\u001b[0m\u001b[1;32m   1801\u001b[0m             \u001b[0mself\u001b[0m\u001b[0;34m.\u001b[0m\u001b[0mobj\u001b[0m\u001b[0;34m.\u001b[0m\u001b[0m_maybe_update_cacher\u001b[0m\u001b[0;34m(\u001b[0m\u001b[0mclear\u001b[0m\u001b[0;34m=\u001b[0m\u001b[0;32mTrue\u001b[0m\u001b[0;34m)\u001b[0m\u001b[0;34m\u001b[0m\u001b[0;34m\u001b[0m\u001b[0m\n\u001b[1;32m   1802\u001b[0m \u001b[0;34m\u001b[0m\u001b[0m\n",
      "\u001b[0;32m/usr/local/lib/python3.6/dist-packages/pandas/core/internals/managers.py\u001b[0m in \u001b[0;36msetitem\u001b[0;34m(self, indexer, value)\u001b[0m\n\u001b[1;32m    541\u001b[0m \u001b[0;34m\u001b[0m\u001b[0m\n\u001b[1;32m    542\u001b[0m     \u001b[0;32mdef\u001b[0m \u001b[0msetitem\u001b[0m\u001b[0;34m(\u001b[0m\u001b[0mself\u001b[0m\u001b[0;34m,\u001b[0m \u001b[0mindexer\u001b[0m\u001b[0;34m,\u001b[0m \u001b[0mvalue\u001b[0m\u001b[0;34m)\u001b[0m \u001b[0;34m->\u001b[0m \u001b[0;34m\"BlockManager\"\u001b[0m\u001b[0;34m:\u001b[0m\u001b[0;34m\u001b[0m\u001b[0;34m\u001b[0m\u001b[0m\n\u001b[0;32m--> 543\u001b[0;31m         \u001b[0;32mreturn\u001b[0m \u001b[0mself\u001b[0m\u001b[0;34m.\u001b[0m\u001b[0mapply\u001b[0m\u001b[0;34m(\u001b[0m\u001b[0;34m\"setitem\"\u001b[0m\u001b[0;34m,\u001b[0m \u001b[0mindexer\u001b[0m\u001b[0;34m=\u001b[0m\u001b[0mindexer\u001b[0m\u001b[0;34m,\u001b[0m \u001b[0mvalue\u001b[0m\u001b[0;34m=\u001b[0m\u001b[0mvalue\u001b[0m\u001b[0;34m)\u001b[0m\u001b[0;34m\u001b[0m\u001b[0;34m\u001b[0m\u001b[0m\n\u001b[0m\u001b[1;32m    544\u001b[0m \u001b[0;34m\u001b[0m\u001b[0m\n\u001b[1;32m    545\u001b[0m     def putmask(\n",
      "\u001b[0;32m/usr/local/lib/python3.6/dist-packages/pandas/core/internals/managers.py\u001b[0m in \u001b[0;36mapply\u001b[0;34m(self, f, align_keys, **kwargs)\u001b[0m\n\u001b[1;32m    407\u001b[0m                 \u001b[0mapplied\u001b[0m \u001b[0;34m=\u001b[0m \u001b[0mb\u001b[0m\u001b[0;34m.\u001b[0m\u001b[0mapply\u001b[0m\u001b[0;34m(\u001b[0m\u001b[0mf\u001b[0m\u001b[0;34m,\u001b[0m \u001b[0;34m**\u001b[0m\u001b[0mkwargs\u001b[0m\u001b[0;34m)\u001b[0m\u001b[0;34m\u001b[0m\u001b[0;34m\u001b[0m\u001b[0m\n\u001b[1;32m    408\u001b[0m             \u001b[0;32melse\u001b[0m\u001b[0;34m:\u001b[0m\u001b[0;34m\u001b[0m\u001b[0;34m\u001b[0m\u001b[0m\n\u001b[0;32m--> 409\u001b[0;31m                 \u001b[0mapplied\u001b[0m \u001b[0;34m=\u001b[0m \u001b[0mgetattr\u001b[0m\u001b[0;34m(\u001b[0m\u001b[0mb\u001b[0m\u001b[0;34m,\u001b[0m \u001b[0mf\u001b[0m\u001b[0;34m)\u001b[0m\u001b[0;34m(\u001b[0m\u001b[0;34m**\u001b[0m\u001b[0mkwargs\u001b[0m\u001b[0;34m)\u001b[0m\u001b[0;34m\u001b[0m\u001b[0;34m\u001b[0m\u001b[0m\n\u001b[0m\u001b[1;32m    410\u001b[0m             \u001b[0mresult_blocks\u001b[0m \u001b[0;34m=\u001b[0m \u001b[0m_extend_blocks\u001b[0m\u001b[0;34m(\u001b[0m\u001b[0mapplied\u001b[0m\u001b[0;34m,\u001b[0m \u001b[0mresult_blocks\u001b[0m\u001b[0;34m)\u001b[0m\u001b[0;34m\u001b[0m\u001b[0;34m\u001b[0m\u001b[0m\n\u001b[1;32m    411\u001b[0m \u001b[0;34m\u001b[0m\u001b[0m\n",
      "\u001b[0;32m/usr/local/lib/python3.6/dist-packages/pandas/core/internals/blocks.py\u001b[0m in \u001b[0;36msetitem\u001b[0;34m(self, indexer, value)\u001b[0m\n\u001b[1;32m    853\u001b[0m \u001b[0;34m\u001b[0m\u001b[0m\n\u001b[1;32m    854\u001b[0m         \u001b[0;31m# length checking\u001b[0m\u001b[0;34m\u001b[0m\u001b[0;34m\u001b[0m\u001b[0;34m\u001b[0m\u001b[0m\n\u001b[0;32m--> 855\u001b[0;31m         \u001b[0mcheck_setitem_lengths\u001b[0m\u001b[0;34m(\u001b[0m\u001b[0mindexer\u001b[0m\u001b[0;34m,\u001b[0m \u001b[0mvalue\u001b[0m\u001b[0;34m,\u001b[0m \u001b[0mvalues\u001b[0m\u001b[0;34m)\u001b[0m\u001b[0;34m\u001b[0m\u001b[0;34m\u001b[0m\u001b[0m\n\u001b[0m\u001b[1;32m    856\u001b[0m         exact_match = (\n\u001b[1;32m    857\u001b[0m             \u001b[0mlen\u001b[0m\u001b[0;34m(\u001b[0m\u001b[0marr_value\u001b[0m\u001b[0;34m.\u001b[0m\u001b[0mshape\u001b[0m\u001b[0;34m)\u001b[0m\u001b[0;34m\u001b[0m\u001b[0;34m\u001b[0m\u001b[0m\n",
      "\u001b[0;32m/usr/local/lib/python3.6/dist-packages/pandas/core/indexers.py\u001b[0m in \u001b[0;36mcheck_setitem_lengths\u001b[0;34m(indexer, value, values)\u001b[0m\n\u001b[1;32m    150\u001b[0m             ):\n\u001b[1;32m    151\u001b[0m                 raise ValueError(\n\u001b[0;32m--> 152\u001b[0;31m                     \u001b[0;34m\"cannot set using a list-like indexer \"\u001b[0m\u001b[0;34m\u001b[0m\u001b[0;34m\u001b[0m\u001b[0m\n\u001b[0m\u001b[1;32m    153\u001b[0m                     \u001b[0;34m\"with a different length than the value\"\u001b[0m\u001b[0;34m\u001b[0m\u001b[0;34m\u001b[0m\u001b[0m\n\u001b[1;32m    154\u001b[0m                 )\n",
      "\u001b[0;31mValueError\u001b[0m: cannot set using a list-like indexer with a different length than the value"
     ]
    }
   ],
   "source": [
    "import skimage\n",
    "import skimage.transform\n",
    "def make_new_df(df, folder):\n",
    "  for filename in os.listdir(folder):\n",
    "    img = cv2.imread(os.path.join(folder,filename))\n",
    "    print(img.shape)\n",
    "    img = preprocess(img, size=(150, 101, 3))\n",
    "    print(img.shape)\n",
    "    if img is not None:\n",
    "      print(cv2.cvtColor(img, cv2.COLOR_BGR2RGB).shape)\n",
    "      df['img_arr'].loc[df.image == filename] = cv2.cvtColor(img, cv2.COLOR_BGR2RGB)\n",
    "  return df\n",
    "df2 = make_new_df(df2, path)\n"
   ]
  },
  {
   "cell_type": "code",
   "execution_count": null,
   "metadata": {
    "id": "NpHrxSH8d4QJ"
   },
   "outputs": [],
   "source": [
    "display(df2)"
   ]
  },
  {
   "cell_type": "code",
   "execution_count": null,
   "metadata": {
    "colab": {
     "base_uri": "https://localhost:8080/",
     "height": 269
    },
    "id": "kF3wFKDcfUk-",
    "outputId": "9034b781-b58c-46e4-8c67-06c8c7eacceb"
   },
   "outputs": [
    {
     "data": {
      "image/png": "[encoded data removed]",
      "text/plain": [
       "<Figure size 432x288 with 1 Axes>"
      ]
     },
     "metadata": {
      "needs_background": "light",
      "tags": []
     },
     "output_type": "display_data"
    }
   ],
   "source": [
    "from matplotlib import pyplot as plt\n",
    "plt.imshow(df2.img_arr[0])\n",
    "plt.show()"
   ]
  },
  {
   "cell_type": "code",
   "execution_count": null,
   "metadata": {
    "colab": {
     "base_uri": "https://localhost:8080/",
     "height": 808
    },
    "id": "3gANDHhXmCy3",
    "outputId": "ad295ae9-2a23-4cc3-bcc2-31aa9fe5a0b9"
   },
   "outputs": [
    {
     "data": {
      "text/html": [
       "<div>\n",
       "<style scoped>\n",
       "    .dataframe tbody tr th:only-of-type {\n",
       "        vertical-align: middle;\n",
       "    }\n",
       "\n",
       "    .dataframe tbody tr th {\n",
       "        vertical-align: top;\n",
       "    }\n",
       "\n",
       "    .dataframe thead th {\n",
       "        text-align: right;\n",
       "    }\n",
       "</style>\n",
       "<table border=\"1\" class=\"dataframe\">\n",
       "  <thead>\n",
       "    <tr style=\"text-align: right;\">\n",
       "      <th></th>\n",
       "      <th>video_id</th>\n",
       "      <th>title_fa</th>\n",
       "      <th>description_fa</th>\n",
       "      <th>age_rating</th>\n",
       "      <th>country_fa</th>\n",
       "      <th>production_year</th>\n",
       "      <th>duration</th>\n",
       "      <th>genre</th>\n",
       "      <th>image</th>\n",
       "      <th>img_arr</th>\n",
       "      <th>genre_cat</th>\n",
       "    </tr>\n",
       "  </thead>\n",
       "  <tbody>\n",
       "    <tr>\n",
       "      <th>0</th>\n",
       "      <td>_WuOoL_filimo</td>\n",
       "      <td>نیش</td>\n",
       "      <td>همسر و فرزند خردسال یك سروان نیروی انتظامی، كه...</td>\n",
       "      <td>0.0</td>\n",
       "      <td>ایران</td>\n",
       "      <td>1994.0</td>\n",
       "      <td>01:27:22</td>\n",
       "      <td>0</td>\n",
       "      <td>videos_covers_066f34bc-aaeb-4c74-a78c-83f0250c...</td>\n",
       "      <td>[[[0.0038403457, 0.003143518, 7.256412e-05], [...</td>\n",
       "      <td>0</td>\n",
       "    </tr>\n",
       "    <tr>\n",
       "      <th>1</th>\n",
       "      <td>yIaxeg8x</td>\n",
       "      <td>سرگذشت حقیقی دار و دسته کلی</td>\n",
       "      <td>درباره فیلم سرگذشت حقیقی دار و دسته کلی  فیلم ...</td>\n",
       "      <td></td>\n",
       "      <td>انگلستان</td>\n",
       "      <td>2020.0</td>\n",
       "      <td>01:46:00</td>\n",
       "      <td>5</td>\n",
       "      <td>videos_covers_c36937ab-5b60-44f0-8152-01bc6ae6...</td>\n",
       "      <td>[[[0.0038600538, 0.0035678586, 0.00012302962],...</td>\n",
       "      <td>5</td>\n",
       "    </tr>\n",
       "    <tr>\n",
       "      <th>2</th>\n",
       "      <td>King_Arthur-Legend_of_the_Sword_4d6P2_filimo</td>\n",
       "      <td>شاه آرتور - افسانه شمشیر</td>\n",
       "      <td>آرتور، مرد جوانی است که در دوران کودکی دزدیده ...</td>\n",
       "      <td>0.0</td>\n",
       "      <td>آمریکا</td>\n",
       "      <td>2017.0</td>\n",
       "      <td>02:04:29</td>\n",
       "      <td>0</td>\n",
       "      <td>videos_covers_128fef8c-2a5a-417e-9061-7d06864f...</td>\n",
       "      <td>[[[0.0033663977, 0.0033663977, 0.0033663977], ...</td>\n",
       "      <td>0</td>\n",
       "    </tr>\n",
       "    <tr>\n",
       "      <th>3</th>\n",
       "      <td>TJAkVhmb</td>\n",
       "      <td>تارزان و جین</td>\n",
       "      <td>انیمیشن تارزان و جین به ماجرای تارزان و آشنایی...</td>\n",
       "      <td>7.0</td>\n",
       "      <td>آمریکا</td>\n",
       "      <td>2017.0</td>\n",
       "      <td></td>\n",
       "      <td>1</td>\n",
       "      <td>videos_covers_f0b8492b-5e94-4cc4-9bec-dcf93e08...</td>\n",
       "      <td>[[[0.0006863189, 0.0007476891, 0.00039976247],...</td>\n",
       "      <td>1</td>\n",
       "    </tr>\n",
       "    <tr>\n",
       "      <th>4</th>\n",
       "      <td>Life_Cycles_0ym29_filimo</td>\n",
       "      <td>چرخ عمر</td>\n",
       "      <td>مستند چرخ عمر داستانی در مورد یک دوچرخه کوهستا...</td>\n",
       "      <td>13.0</td>\n",
       "      <td>کانادا</td>\n",
       "      <td>2010.0</td>\n",
       "      <td>00:46:58</td>\n",
       "      <td>4</td>\n",
       "      <td>videos_covers_965f947c-ee7d-4851-9fa5-ba303524...</td>\n",
       "      <td>[[[0.0001485212, 0.0010404858, 0.0010712432], ...</td>\n",
       "      <td>4</td>\n",
       "    </tr>\n",
       "    <tr>\n",
       "      <th>...</th>\n",
       "      <td>...</td>\n",
       "      <td>...</td>\n",
       "      <td>...</td>\n",
       "      <td>...</td>\n",
       "      <td>...</td>\n",
       "      <td>...</td>\n",
       "      <td>...</td>\n",
       "      <td>...</td>\n",
       "      <td>...</td>\n",
       "      <td>...</td>\n",
       "      <td>...</td>\n",
       "    </tr>\n",
       "    <tr>\n",
       "      <th>3586</th>\n",
       "      <td>Jungle_HV4Nm_filimo</td>\n",
       "      <td>جنگل</td>\n",
       "      <td>گروهی ماجراجو هست با یک راهنما به جنگل های بول...</td>\n",
       "      <td>17.0</td>\n",
       "      <td>آمریکا</td>\n",
       "      <td>2017.0</td>\n",
       "      <td>01:52:02</td>\n",
       "      <td>9</td>\n",
       "      <td>videos_covers_e5920208-567f-4a60-bf45-302d35ea...</td>\n",
       "      <td>[[[0.0038600538, 0.003921569, 0.00390619], [0....</td>\n",
       "      <td>9</td>\n",
       "    </tr>\n",
       "    <tr>\n",
       "      <th>7096</th>\n",
       "      <td>BAKCiOUg</td>\n",
       "      <td>فولکلور</td>\n",
       "      <td>فولکلور سریال 6 قسمتی در ژانر وحشت محصول سال 2...</td>\n",
       "      <td>17.0</td>\n",
       "      <td>ژاپن</td>\n",
       "      <td>2018.0</td>\n",
       "      <td></td>\n",
       "      <td>9</td>\n",
       "      <td>videos_covers_50d18317-9abb-4486-a1ed-e450103a...</td>\n",
       "      <td>[[[0.003003176, 0.003110827, 0.0018389525], [0...</td>\n",
       "      <td>9</td>\n",
       "    </tr>\n",
       "    <tr>\n",
       "      <th>2316</th>\n",
       "      <td>Walking_Dead_S05E09_nxC1A_filimo_temp_serial</td>\n",
       "      <td>مردگان متحرک - فصل ۵ قسمت ۹</td>\n",
       "      <td>ریک ، گلن و ریکونه، نوح را به خانه اش در شرویت...</td>\n",
       "      <td></td>\n",
       "      <td>آمریکا</td>\n",
       "      <td>2014.0</td>\n",
       "      <td>00:43:00</td>\n",
       "      <td>9</td>\n",
       "      <td>videos_covers_b7d1a74e-0719-4cbd-ac06-309a603f...</td>\n",
       "      <td>[[[0.0, 0.0, 0.0], [0.0, 0.0, 0.0], [0.0, 0.0,...</td>\n",
       "      <td>9</td>\n",
       "    </tr>\n",
       "    <tr>\n",
       "      <th>4945</th>\n",
       "      <td>ZERGGScG</td>\n",
       "      <td>ضرر قابل قبول</td>\n",
       "      <td>داستان این فیلم درباره زنی به نام لیبی لام مشا...</td>\n",
       "      <td>17.0</td>\n",
       "      <td>آمریکا</td>\n",
       "      <td>2018.0</td>\n",
       "      <td>01:35:00</td>\n",
       "      <td>9</td>\n",
       "      <td>videos_covers_a83a2ce0-fc96-4a6b-8e50-51950069...</td>\n",
       "      <td>[[[0.0012918946, 0.0014610603, 0.0013995455], ...</td>\n",
       "      <td>9</td>\n",
       "    </tr>\n",
       "    <tr>\n",
       "      <th>10217</th>\n",
       "      <td>Walking_Dead_S06E09_rCLId_filimo_temp_serial</td>\n",
       "      <td>مردگان متحرک - فصل ۶ قسمت ۹</td>\n",
       "      <td>دریل، آبراهام و ساشا با ناجیان رو به رو میشوند...</td>\n",
       "      <td></td>\n",
       "      <td>آمریکا</td>\n",
       "      <td>2015.0</td>\n",
       "      <td>00:41:00</td>\n",
       "      <td>9</td>\n",
       "      <td>videos_covers_57a6f750-08fb-4eeb-bc56-74afe80c...</td>\n",
       "      <td>[[[0.0007843137, 0.000768935, 0.00044598232], ...</td>\n",
       "      <td>9</td>\n",
       "    </tr>\n",
       "  </tbody>\n",
       "</table>\n",
       "<p>27470 rows × 11 columns</p>\n",
       "</div>"
      ],
      "text/plain": [
       "                                           video_id  ... genre_cat\n",
       "0                                     _WuOoL_filimo  ...         0\n",
       "1                                          yIaxeg8x  ...         5\n",
       "2      King_Arthur-Legend_of_the_Sword_4d6P2_filimo  ...         0\n",
       "3                                          TJAkVhmb  ...         1\n",
       "4                          Life_Cycles_0ym29_filimo  ...         4\n",
       "...                                             ...  ...       ...\n",
       "3586                            Jungle_HV4Nm_filimo  ...         9\n",
       "7096                                       BAKCiOUg  ...         9\n",
       "2316   Walking_Dead_S05E09_nxC1A_filimo_temp_serial  ...         9\n",
       "4945                                       ZERGGScG  ...         9\n",
       "10217  Walking_Dead_S06E09_rCLId_filimo_temp_serial  ...         9\n",
       "\n",
       "[27470 rows x 11 columns]"
      ]
     },
     "metadata": {
      "tags": []
     },
     "output_type": "display_data"
    }
   ],
   "source": [
    "max_size = df2['genre'].value_counts().max()\n",
    "min_size = df2['genre'].value_counts().min()\n",
    "lst = [df2]\n",
    "for class_index, group in df2.groupby('genre'):\n",
    "    lst.append(group.sample((max_size - 2 * min_size) , replace=True))\n",
    "df_new = pd.concat(lst)\n",
    "display(df_new)"
   ]
  },
  {
   "cell_type": "code",
   "execution_count": null,
   "metadata": {
    "id": "rnrmSJ5GufKH"
   },
   "outputs": [],
   "source": [
    "\n",
    "\n",
    "from sklearn import preprocessing\n",
    "le = preprocessing.LabelEncoder()\n",
    "le.fit(df_new['genre'].unique())\n",
    "df_new[\"genre\"] = le.transform(df_new[\"genre\"])\n",
    "target = df_new.genre\n",
    "df_new = df_new.drop('genre',axis = 1)\n",
    "\n",
    "# Get one hot encoding of columns B\n",
    "# target = pd.get_dummies(target)\n",
    "# # Drop column B as it is now encoded\n",
    "# df_new = df_new.drop('genre',axis = 1)\n",
    "# # Join the encoded df\n",
    "# df_new = df_new.join(one_hot)\n",
    "# df_new"
   ]
  },
  {
   "cell_type": "code",
   "execution_count": 153,
   "metadata": {
    "colab": {
     "base_uri": "https://localhost:8080/"
    },
    "id": "8Ff32gzRmRHs",
    "outputId": "2b043b9b-8fb2-4729-c7e5-88925739c3b7"
   },
   "outputs": [
    {
     "data": {
      "text/plain": [
       "0        [[[0.0038403457, 0.003143518, 7.256412e-05], [...\n",
       "1        [[[0.0038600538, 0.0035678586, 0.00012302962],...\n",
       "2        [[[0.0033663977, 0.0033663977, 0.0033663977], ...\n",
       "3        [[[0.0006863189, 0.0007476891, 0.00039976247],...\n",
       "4        [[[0.0001485212, 0.0010404858, 0.0010712432], ...\n",
       "                               ...                        \n",
       "3586     [[[0.0038600538, 0.003921569, 0.00390619], [0....\n",
       "7096     [[[0.003003176, 0.003110827, 0.0018389525], [0...\n",
       "2316     [[[0.0, 0.0, 0.0], [0.0, 0.0, 0.0], [0.0, 0.0,...\n",
       "4945     [[[0.0012918946, 0.0014610603, 0.0013995455], ...\n",
       "10217    [[[0.0007843137, 0.000768935, 0.00044598232], ...\n",
       "Name: img_arr, Length: 27470, dtype: object"
      ]
     },
     "execution_count": 153,
     "metadata": {
      "tags": []
     },
     "output_type": "execute_result"
    }
   ],
   "source": [
    "df_new.img_arr"
   ]
  },
  {
   "cell_type": "code",
   "execution_count": null,
   "metadata": {
    "id": "dVqr-snNxToN"
   },
   "outputs": [],
   "source": [
    "import keras\n",
    "from keras.models import Sequential\n",
    "from keras.layers import Dense, Dropout, Flatten\n",
    "from keras.layers import Conv2D, MaxPooling2D, BatchNormalization"
   ]
  },
  {
   "cell_type": "code",
   "execution_count": null,
   "metadata": {
    "id": "uP_3AKdsxYek"
   },
   "outputs": [],
   "source": [
    "SIZE = (150, 101, 3)\n",
    "model = Sequential()\n",
    "model.add(Conv2D(32, kernel_size=(3, 3), activation='relu',\n",
    "                 input_shape=(SIZE[0], SIZE[1], 3)))\n",
    "model.add(Conv2D(64, (3, 3), activation='relu'))\n",
    "model.add(MaxPooling2D(pool_size=(2, 2)))\n",
    "model.add(Dropout(0.25))\n",
    "\n",
    "model.add(Conv2D(128, kernel_size=(3, 3), activation='relu'))\n",
    "model.add(Conv2D(64, (3, 3), activation='relu'))\n",
    "model.add(MaxPooling2D(pool_size=(2, 2)))\n",
    "model.add(Dropout(0.25))\n",
    "\n",
    "model.add(Flatten())\n",
    "model.add(Dense(128, activation='relu'))\n",
    "model.add(Dropout(0.5))\n",
    "model.add(Dense(1, activation='softmax'))"
   ]
  },
  {
   "cell_type": "code",
   "execution_count": null,
   "metadata": {
    "id": "6onLsvoxxt5Y"
   },
   "outputs": [],
   "source": [
    "model.compile(loss='categorical_crossentropy',\n",
    "              optimizer=keras.optimizers.Adagrad(),\n",
    "              metrics=['accuracy'])"
   ]
  },
  {
   "cell_type": "code",
   "execution_count": null,
   "metadata": {
    "colab": {
     "base_uri": "https://localhost:8080/"
    },
    "id": "dV1mGiTQ22UC",
    "outputId": "45ca31bc-a863-4fd3-bf87-cf278ed56ead"
   },
   "outputs": [
    {
     "name": "stdout",
     "output_type": "stream",
     "text": [
      "[[[3.84034566e-03 3.14351800e-03 7.25641221e-05]\n",
      "  [3.79495579e-03 3.29129328e-03 4.14336719e-05]\n",
      "  [3.65523808e-03 2.75866222e-03 3.37164056e-05]\n",
      "  ...\n",
      "  [3.84877622e-03 2.58697663e-03 1.18532735e-04]\n",
      "  [3.84245208e-03 2.48434022e-03 1.16705560e-04]\n",
      "  [3.82784242e-03 2.40873336e-03 6.53873940e-05]]\n",
      "\n",
      " [[3.79808224e-03 2.91599194e-03 7.48988386e-05]\n",
      "  [3.81521974e-03 3.24684707e-03 9.14195189e-05]\n",
      "  [3.80941830e-03 3.00252368e-03 1.63805991e-04]\n",
      "  ...\n",
      "  [3.90465208e-03 2.48496956e-03 1.38408315e-04]\n",
      "  [3.90618993e-03 2.43530096e-03 1.24567465e-04]\n",
      "  [3.90618993e-03 2.40369095e-03 9.53251001e-05]]\n",
      "\n",
      " [[3.80554306e-03 2.57663033e-03 1.07194108e-04]\n",
      "  [3.78265278e-03 3.07003036e-03 8.15121894e-05]\n",
      "  [3.85919097e-03 3.16849467e-03 2.00481401e-04]\n",
      "  ...\n",
      "  [3.90618993e-03 2.15691351e-03 5.61982379e-05]\n",
      "  [3.90305580e-03 2.17483006e-03 2.44891853e-05]\n",
      "  [3.86001565e-03 2.15045502e-03 0.00000000e+00]]\n",
      "\n",
      " ...\n",
      "\n",
      " [[1.27130596e-03 1.25592726e-03 7.97129294e-04]\n",
      "  [1.28668465e-03 1.28657045e-03 7.97129294e-04]\n",
      "  [1.31506915e-03 1.30206335e-03 7.22519762e-04]\n",
      "  ...\n",
      "  [2.09312740e-04 1.72680477e-04 1.23029618e-04]\n",
      "  [9.17012148e-05 2.03171410e-04 1.54700596e-04]\n",
      "  [1.10214023e-04 2.02486219e-04 2.20428046e-04]]\n",
      "\n",
      " [[1.33948482e-03 1.33948482e-03 7.53761851e-04]\n",
      "  [1.40031450e-03 1.36955711e-03 7.52018474e-04]\n",
      "  [1.43175700e-03 1.38419727e-03 7.08166277e-04]\n",
      "  ...\n",
      "  [3.04939836e-04 1.38012416e-04 1.35728449e-04]\n",
      "  [1.23128571e-04 1.83760247e-04 1.06798223e-04]\n",
      "  [7.53556305e-05 2.15301814e-04 1.35332564e-04]]\n",
      "\n",
      " [[1.36855966e-03 1.37434318e-03 7.53556320e-04]\n",
      "  [1.42953394e-03 1.38947065e-03 7.38177623e-04]\n",
      "  [1.46619661e-03 1.39988051e-03 7.08562206e-04]\n",
      "  ...\n",
      "  [3.31479503e-04 1.08374159e-04 1.16248768e-04]\n",
      "  [1.30965112e-04 1.55591333e-04 7.73274587e-05]\n",
      "  [5.58759457e-05 2.09662947e-04 8.66333503e-05]]]\n"
     ]
    }
   ],
   "source": [
    "print(df_new['img_arr'][0])"
   ]
  },
  {
   "cell_type": "code",
   "execution_count": 168,
   "metadata": {
    "colab": {
     "base_uri": "https://localhost:8080/"
    },
    "id": "W3ZYTaOyqQqA",
    "outputId": "8151aaf3-9670-482a-bfce-d630e922ed18"
   },
   "outputs": [
    {
     "data": {
      "text/plain": [
       "(150, 101, 3)"
      ]
     },
     "execution_count": 168,
     "metadata": {
      "tags": []
     },
     "output_type": "execute_result"
    }
   ],
   "source": [
    "df_new.img_arr.iloc[10].shape"
   ]
  },
  {
   "cell_type": "code",
   "execution_count": 158,
   "metadata": {
    "colab": {
     "base_uri": "https://localhost:8080/"
    },
    "id": "c6gyj_knoBsP",
    "outputId": "a98a9c02-cf01-4f0e-8682-2bf56c020ad4"
   },
   "outputs": [
    {
     "name": "stdout",
     "output_type": "stream",
     "text": [
      "27470 27470\n"
     ]
    }
   ],
   "source": [
    "print(len(target), len(df_new.img_arr))"
   ]
  },
  {
   "cell_type": "code",
   "execution_count": 157,
   "metadata": {
    "colab": {
     "base_uri": "https://localhost:8080/"
    },
    "id": "45V9s8NKnr7u",
    "outputId": "5f6d067d-3fb8-4f3e-db5b-b23d76939544"
   },
   "outputs": [
    {
     "data": {
      "text/plain": [
       "0        0\n",
       "1        5\n",
       "2        0\n",
       "3        1\n",
       "4        4\n",
       "        ..\n",
       "27465    9\n",
       "27466    9\n",
       "27467    9\n",
       "27468    9\n",
       "27469    9\n",
       "Name: genre, Length: 27470, dtype: int64"
      ]
     },
     "execution_count": 157,
     "metadata": {
      "tags": []
     },
     "output_type": "execute_result"
    }
   ],
   "source": [
    "target.reset_index(drop=True)"
   ]
  },
  {
   "cell_type": "code",
   "execution_count": 155,
   "metadata": {
    "colab": {
     "base_uri": "https://localhost:8080/",
     "height": 921
    },
    "id": "zET1oQs8xzTz",
    "outputId": "f839bbbe-42d2-41f9-f228-c1aa01ce7176"
   },
   "outputs": [
    {
     "name": "stdout",
     "output_type": "stream",
     "text": [
      "                                                img_arr\n",
      "0     [[[0.0038403457, 0.003143518, 7.256412e-05], [...\n",
      "1     [[[0.0038600538, 0.0035678586, 0.00012302962],...\n",
      "2     [[[0.0033663977, 0.0033663977, 0.0033663977], ...\n",
      "3     [[[0.0006863189, 0.0007476891, 0.00039976247],...\n",
      "4     [[[0.0001485212, 0.0010404858, 0.0010712432], ...\n",
      "...                                                 ...\n",
      "3995  [[[0.0007217902, 0.00056800316, 0.00038345877]...\n",
      "3996  [[[0.002843826, 0.0027730286, 0.002650372], [0...\n",
      "3997  [[[1.5378702e-05, 3.0757405e-05, 0.00035371011...\n",
      "3998  [[[0.00069204153, 0.0012456748, 0.0017685506],...\n",
      "3999  [[[0.0011381685, 0.0011689259, 0.0013534703], ...\n",
      "\n",
      "[4000 rows x 1 columns]\n"
     ]
    },
    {
     "ename": "ValueError",
     "evalue": "ignored",
     "output_type": "error",
     "traceback": [
      "\u001b[0;31m---------------------------------------------------------------------------\u001b[0m",
      "\u001b[0;31mTypeError\u001b[0m                                 Traceback (most recent call last)",
      "\u001b[0;32m/usr/local/lib/python3.6/dist-packages/tensorflow/python/data/util/structure.py\u001b[0m in \u001b[0;36mnormalize_element\u001b[0;34m(element, element_signature)\u001b[0m\n\u001b[1;32m    105\u001b[0m         \u001b[0;32mif\u001b[0m \u001b[0mspec\u001b[0m \u001b[0;32mis\u001b[0m \u001b[0;32mNone\u001b[0m\u001b[0;34m:\u001b[0m\u001b[0;34m\u001b[0m\u001b[0;34m\u001b[0m\u001b[0m\n\u001b[0;32m--> 106\u001b[0;31m           \u001b[0mspec\u001b[0m \u001b[0;34m=\u001b[0m \u001b[0mtype_spec_from_value\u001b[0m\u001b[0;34m(\u001b[0m\u001b[0mt\u001b[0m\u001b[0;34m,\u001b[0m \u001b[0muse_fallback\u001b[0m\u001b[0;34m=\u001b[0m\u001b[0;32mFalse\u001b[0m\u001b[0;34m)\u001b[0m\u001b[0;34m\u001b[0m\u001b[0;34m\u001b[0m\u001b[0m\n\u001b[0m\u001b[1;32m    107\u001b[0m       \u001b[0;32mexcept\u001b[0m \u001b[0mTypeError\u001b[0m\u001b[0;34m:\u001b[0m\u001b[0;34m\u001b[0m\u001b[0;34m\u001b[0m\u001b[0m\n",
      "\u001b[0;32m/usr/local/lib/python3.6/dist-packages/tensorflow/python/data/util/structure.py\u001b[0m in \u001b[0;36mtype_spec_from_value\u001b[0;34m(element, use_fallback)\u001b[0m\n\u001b[1;32m    479\u001b[0m   raise TypeError(\"Could not build a TypeSpec for %r with type %s\" %\n\u001b[0;32m--> 480\u001b[0;31m                   (element, type(element).__name__))\n\u001b[0m\u001b[1;32m    481\u001b[0m \u001b[0;34m\u001b[0m\u001b[0m\n",
      "\u001b[0;31mTypeError\u001b[0m: Could not build a TypeSpec for                                                 img_arr\n0     [[[0.0038403457, 0.003143518, 7.256412e-05], [...\n1     [[[0.0038600538, 0.0035678586, 0.00012302962],...\n2     [[[0.0033663977, 0.0033663977, 0.0033663977], ...\n3     [[[0.0006863189, 0.0007476891, 0.00039976247],...\n4     [[[0.0001485212, 0.0010404858, 0.0010712432], ...\n...                                                 ...\n3595  [[[0.003921569, 0.003921569, 0.003921569], [0....\n3596  [[[0.0037691747, 0.003855892, 0.0038560366], [...\n3597  [[[0.0026297579, 0.0021222609, 0.001645521], [...\n3598  [[[0.0024276727, 0.00014766851, 0.00020354446]...\n3599  [[[0.0038139177, 0.0038908112, 0.0038754325], ...\n\n[3600 rows x 1 columns] with type DataFrame",
      "\nDuring handling of the above exception, another exception occurred:\n",
      "\u001b[0;31mValueError\u001b[0m                                Traceback (most recent call last)",
      "\u001b[0;32m<ipython-input-155-e62ab26554ba>\u001b[0m in \u001b[0;36m<module>\u001b[0;34m()\u001b[0m\n\u001b[1;32m     10\u001b[0m \u001b[0;31m# y=np.asarray(target[: n]).astype(np.float32)\u001b[0m\u001b[0;34m\u001b[0m\u001b[0;34m\u001b[0m\u001b[0;34m\u001b[0m\u001b[0m\n\u001b[1;32m     11\u001b[0m \u001b[0;34m\u001b[0m\u001b[0m\n\u001b[0;32m---> 12\u001b[0;31m \u001b[0mmodel\u001b[0m\u001b[0;34m.\u001b[0m\u001b[0mfit\u001b[0m\u001b[0;34m(\u001b[0m\u001b[0mpd\u001b[0m\u001b[0;34m.\u001b[0m\u001b[0mDataFrame\u001b[0m\u001b[0;34m(\u001b[0m\u001b[0mX\u001b[0m\u001b[0;34m)\u001b[0m\u001b[0;34m,\u001b[0m \u001b[0mpd\u001b[0m\u001b[0;34m.\u001b[0m\u001b[0mDataFrame\u001b[0m\u001b[0;34m(\u001b[0m\u001b[0mtarget\u001b[0m\u001b[0;34m)\u001b[0m\u001b[0;34m,\u001b[0m \u001b[0mbatch_size\u001b[0m\u001b[0;34m=\u001b[0m\u001b[0;36m16\u001b[0m\u001b[0;34m,\u001b[0m \u001b[0mepochs\u001b[0m\u001b[0;34m=\u001b[0m\u001b[0;36m5\u001b[0m\u001b[0;34m,\u001b[0m \u001b[0mverbose\u001b[0m\u001b[0;34m=\u001b[0m\u001b[0;36m1\u001b[0m\u001b[0;34m,\u001b[0m \u001b[0mvalidation_split\u001b[0m\u001b[0;34m=\u001b[0m\u001b[0;36m0.1\u001b[0m\u001b[0;34m)\u001b[0m\u001b[0;34m\u001b[0m\u001b[0;34m\u001b[0m\u001b[0m\n\u001b[0m",
      "\u001b[0;32m/usr/local/lib/python3.6/dist-packages/tensorflow/python/keras/engine/training.py\u001b[0m in \u001b[0;36mfit\u001b[0;34m(self, x, y, batch_size, epochs, verbose, callbacks, validation_split, validation_data, shuffle, class_weight, sample_weight, initial_epoch, steps_per_epoch, validation_steps, validation_batch_size, validation_freq, max_queue_size, workers, use_multiprocessing)\u001b[0m\n\u001b[1;32m   1062\u001b[0m           \u001b[0muse_multiprocessing\u001b[0m\u001b[0;34m=\u001b[0m\u001b[0muse_multiprocessing\u001b[0m\u001b[0;34m,\u001b[0m\u001b[0;34m\u001b[0m\u001b[0;34m\u001b[0m\u001b[0m\n\u001b[1;32m   1063\u001b[0m           \u001b[0mmodel\u001b[0m\u001b[0;34m=\u001b[0m\u001b[0mself\u001b[0m\u001b[0;34m,\u001b[0m\u001b[0;34m\u001b[0m\u001b[0;34m\u001b[0m\u001b[0m\n\u001b[0;32m-> 1064\u001b[0;31m           steps_per_execution=self._steps_per_execution)\n\u001b[0m\u001b[1;32m   1065\u001b[0m \u001b[0;34m\u001b[0m\u001b[0m\n\u001b[1;32m   1066\u001b[0m       \u001b[0;31m# Container that configures and calls `tf.keras.Callback`s.\u001b[0m\u001b[0;34m\u001b[0m\u001b[0;34m\u001b[0m\u001b[0;34m\u001b[0m\u001b[0m\n",
      "\u001b[0;32m/usr/local/lib/python3.6/dist-packages/tensorflow/python/keras/engine/data_adapter.py\u001b[0m in \u001b[0;36m__init__\u001b[0;34m(self, x, y, sample_weight, batch_size, steps_per_epoch, initial_epoch, epochs, shuffle, class_weight, max_queue_size, workers, use_multiprocessing, model, steps_per_execution)\u001b[0m\n\u001b[1;32m   1110\u001b[0m         \u001b[0muse_multiprocessing\u001b[0m\u001b[0;34m=\u001b[0m\u001b[0muse_multiprocessing\u001b[0m\u001b[0;34m,\u001b[0m\u001b[0;34m\u001b[0m\u001b[0;34m\u001b[0m\u001b[0m\n\u001b[1;32m   1111\u001b[0m         \u001b[0mdistribution_strategy\u001b[0m\u001b[0;34m=\u001b[0m\u001b[0mds_context\u001b[0m\u001b[0;34m.\u001b[0m\u001b[0mget_strategy\u001b[0m\u001b[0;34m(\u001b[0m\u001b[0;34m)\u001b[0m\u001b[0;34m,\u001b[0m\u001b[0;34m\u001b[0m\u001b[0;34m\u001b[0m\u001b[0m\n\u001b[0;32m-> 1112\u001b[0;31m         model=model)\n\u001b[0m\u001b[1;32m   1113\u001b[0m \u001b[0;34m\u001b[0m\u001b[0m\n\u001b[1;32m   1114\u001b[0m     \u001b[0mstrategy\u001b[0m \u001b[0;34m=\u001b[0m \u001b[0mds_context\u001b[0m\u001b[0;34m.\u001b[0m\u001b[0mget_strategy\u001b[0m\u001b[0;34m(\u001b[0m\u001b[0;34m)\u001b[0m\u001b[0;34m\u001b[0m\u001b[0;34m\u001b[0m\u001b[0m\n",
      "\u001b[0;32m/usr/local/lib/python3.6/dist-packages/tensorflow/python/keras/engine/data_adapter.py\u001b[0m in \u001b[0;36m__init__\u001b[0;34m(self, x, y, sample_weights, sample_weight_modes, batch_size, epochs, steps, shuffle, **kwargs)\u001b[0m\n\u001b[1;32m    353\u001b[0m     \u001b[0mindices_dataset\u001b[0m \u001b[0;34m=\u001b[0m \u001b[0mindices_dataset\u001b[0m\u001b[0;34m.\u001b[0m\u001b[0mflat_map\u001b[0m\u001b[0;34m(\u001b[0m\u001b[0mslice_batch_indices\u001b[0m\u001b[0;34m)\u001b[0m\u001b[0;34m\u001b[0m\u001b[0;34m\u001b[0m\u001b[0m\n\u001b[1;32m    354\u001b[0m \u001b[0;34m\u001b[0m\u001b[0m\n\u001b[0;32m--> 355\u001b[0;31m     \u001b[0mdataset\u001b[0m \u001b[0;34m=\u001b[0m \u001b[0mself\u001b[0m\u001b[0;34m.\u001b[0m\u001b[0mslice_inputs\u001b[0m\u001b[0;34m(\u001b[0m\u001b[0mindices_dataset\u001b[0m\u001b[0;34m,\u001b[0m \u001b[0minputs\u001b[0m\u001b[0;34m)\u001b[0m\u001b[0;34m\u001b[0m\u001b[0;34m\u001b[0m\u001b[0m\n\u001b[0m\u001b[1;32m    356\u001b[0m \u001b[0;34m\u001b[0m\u001b[0m\n\u001b[1;32m    357\u001b[0m     \u001b[0;32mif\u001b[0m \u001b[0mshuffle\u001b[0m \u001b[0;34m==\u001b[0m \u001b[0;34m\"batch\"\u001b[0m\u001b[0;34m:\u001b[0m\u001b[0;34m\u001b[0m\u001b[0;34m\u001b[0m\u001b[0m\n",
      "\u001b[0;32m/usr/local/lib/python3.6/dist-packages/tensorflow/python/keras/engine/data_adapter.py\u001b[0m in \u001b[0;36mslice_inputs\u001b[0;34m(self, indices_dataset, inputs)\u001b[0m\n\u001b[1;32m    379\u001b[0m     dataset = dataset_ops.DatasetV2.zip((\n\u001b[1;32m    380\u001b[0m         \u001b[0mindices_dataset\u001b[0m\u001b[0;34m,\u001b[0m\u001b[0;34m\u001b[0m\u001b[0;34m\u001b[0m\u001b[0m\n\u001b[0;32m--> 381\u001b[0;31m         \u001b[0mdataset_ops\u001b[0m\u001b[0;34m.\u001b[0m\u001b[0mDatasetV2\u001b[0m\u001b[0;34m.\u001b[0m\u001b[0mfrom_tensors\u001b[0m\u001b[0;34m(\u001b[0m\u001b[0minputs\u001b[0m\u001b[0;34m)\u001b[0m\u001b[0;34m.\u001b[0m\u001b[0mrepeat\u001b[0m\u001b[0;34m(\u001b[0m\u001b[0;34m)\u001b[0m\u001b[0;34m\u001b[0m\u001b[0;34m\u001b[0m\u001b[0m\n\u001b[0m\u001b[1;32m    382\u001b[0m     ))\n\u001b[1;32m    383\u001b[0m \u001b[0;34m\u001b[0m\u001b[0m\n",
      "\u001b[0;32m/usr/local/lib/python3.6/dist-packages/tensorflow/python/data/ops/dataset_ops.py\u001b[0m in \u001b[0;36mfrom_tensors\u001b[0;34m(tensors)\u001b[0m\n\u001b[1;32m    611\u001b[0m       \u001b[0mDataset\u001b[0m\u001b[0;34m:\u001b[0m \u001b[0mA\u001b[0m\u001b[0;31m \u001b[0m\u001b[0;31m`\u001b[0m\u001b[0mDataset\u001b[0m\u001b[0;31m`\u001b[0m\u001b[0;34m.\u001b[0m\u001b[0;34m\u001b[0m\u001b[0;34m\u001b[0m\u001b[0m\n\u001b[1;32m    612\u001b[0m     \"\"\"\n\u001b[0;32m--> 613\u001b[0;31m     \u001b[0;32mreturn\u001b[0m \u001b[0mTensorDataset\u001b[0m\u001b[0;34m(\u001b[0m\u001b[0mtensors\u001b[0m\u001b[0;34m)\u001b[0m\u001b[0;34m\u001b[0m\u001b[0;34m\u001b[0m\u001b[0m\n\u001b[0m\u001b[1;32m    614\u001b[0m \u001b[0;34m\u001b[0m\u001b[0m\n\u001b[1;32m    615\u001b[0m   \u001b[0;34m@\u001b[0m\u001b[0mstaticmethod\u001b[0m\u001b[0;34m\u001b[0m\u001b[0;34m\u001b[0m\u001b[0m\n",
      "\u001b[0;32m/usr/local/lib/python3.6/dist-packages/tensorflow/python/data/ops/dataset_ops.py\u001b[0m in \u001b[0;36m__init__\u001b[0;34m(self, element)\u001b[0m\n\u001b[1;32m   3134\u001b[0m   \u001b[0;32mdef\u001b[0m \u001b[0m__init__\u001b[0m\u001b[0;34m(\u001b[0m\u001b[0mself\u001b[0m\u001b[0;34m,\u001b[0m \u001b[0melement\u001b[0m\u001b[0;34m)\u001b[0m\u001b[0;34m:\u001b[0m\u001b[0;34m\u001b[0m\u001b[0;34m\u001b[0m\u001b[0m\n\u001b[1;32m   3135\u001b[0m     \u001b[0;34m\"\"\"See `Dataset.from_tensors()` for details.\"\"\"\u001b[0m\u001b[0;34m\u001b[0m\u001b[0;34m\u001b[0m\u001b[0m\n\u001b[0;32m-> 3136\u001b[0;31m     \u001b[0melement\u001b[0m \u001b[0;34m=\u001b[0m \u001b[0mstructure\u001b[0m\u001b[0;34m.\u001b[0m\u001b[0mnormalize_element\u001b[0m\u001b[0;34m(\u001b[0m\u001b[0melement\u001b[0m\u001b[0;34m)\u001b[0m\u001b[0;34m\u001b[0m\u001b[0;34m\u001b[0m\u001b[0m\n\u001b[0m\u001b[1;32m   3137\u001b[0m     \u001b[0mself\u001b[0m\u001b[0;34m.\u001b[0m\u001b[0m_structure\u001b[0m \u001b[0;34m=\u001b[0m \u001b[0mstructure\u001b[0m\u001b[0;34m.\u001b[0m\u001b[0mtype_spec_from_value\u001b[0m\u001b[0;34m(\u001b[0m\u001b[0melement\u001b[0m\u001b[0;34m)\u001b[0m\u001b[0;34m\u001b[0m\u001b[0;34m\u001b[0m\u001b[0m\n\u001b[1;32m   3138\u001b[0m     \u001b[0mself\u001b[0m\u001b[0;34m.\u001b[0m\u001b[0m_tensors\u001b[0m \u001b[0;34m=\u001b[0m \u001b[0mstructure\u001b[0m\u001b[0;34m.\u001b[0m\u001b[0mto_tensor_list\u001b[0m\u001b[0;34m(\u001b[0m\u001b[0mself\u001b[0m\u001b[0;34m.\u001b[0m\u001b[0m_structure\u001b[0m\u001b[0;34m,\u001b[0m \u001b[0melement\u001b[0m\u001b[0;34m)\u001b[0m\u001b[0;34m\u001b[0m\u001b[0;34m\u001b[0m\u001b[0m\n",
      "\u001b[0;32m/usr/local/lib/python3.6/dist-packages/tensorflow/python/data/util/structure.py\u001b[0m in \u001b[0;36mnormalize_element\u001b[0;34m(element, element_signature)\u001b[0m\n\u001b[1;32m    109\u001b[0m         \u001b[0;31m# the value. As a fallback try converting the value to a tensor.\u001b[0m\u001b[0;34m\u001b[0m\u001b[0;34m\u001b[0m\u001b[0;34m\u001b[0m\u001b[0m\n\u001b[1;32m    110\u001b[0m         normalized_components.append(\n\u001b[0;32m--> 111\u001b[0;31m             ops.convert_to_tensor(t, name=\"component_%d\" % i))\n\u001b[0m\u001b[1;32m    112\u001b[0m       \u001b[0;32melse\u001b[0m\u001b[0;34m:\u001b[0m\u001b[0;34m\u001b[0m\u001b[0;34m\u001b[0m\u001b[0m\n\u001b[1;32m    113\u001b[0m         \u001b[0;32mif\u001b[0m \u001b[0misinstance\u001b[0m\u001b[0;34m(\u001b[0m\u001b[0mspec\u001b[0m\u001b[0;34m,\u001b[0m \u001b[0msparse_tensor\u001b[0m\u001b[0;34m.\u001b[0m\u001b[0mSparseTensorSpec\u001b[0m\u001b[0;34m)\u001b[0m\u001b[0;34m:\u001b[0m\u001b[0;34m\u001b[0m\u001b[0;34m\u001b[0m\u001b[0m\n",
      "\u001b[0;32m/usr/local/lib/python3.6/dist-packages/tensorflow/python/profiler/trace.py\u001b[0m in \u001b[0;36mwrapped\u001b[0;34m(*args, **kwargs)\u001b[0m\n\u001b[1;32m    161\u001b[0m         \u001b[0;32mwith\u001b[0m \u001b[0mTrace\u001b[0m\u001b[0;34m(\u001b[0m\u001b[0mtrace_name\u001b[0m\u001b[0;34m,\u001b[0m \u001b[0;34m**\u001b[0m\u001b[0mtrace_kwargs\u001b[0m\u001b[0;34m)\u001b[0m\u001b[0;34m:\u001b[0m\u001b[0;34m\u001b[0m\u001b[0;34m\u001b[0m\u001b[0m\n\u001b[1;32m    162\u001b[0m           \u001b[0;32mreturn\u001b[0m \u001b[0mfunc\u001b[0m\u001b[0;34m(\u001b[0m\u001b[0;34m*\u001b[0m\u001b[0margs\u001b[0m\u001b[0;34m,\u001b[0m \u001b[0;34m**\u001b[0m\u001b[0mkwargs\u001b[0m\u001b[0;34m)\u001b[0m\u001b[0;34m\u001b[0m\u001b[0;34m\u001b[0m\u001b[0m\n\u001b[0;32m--> 163\u001b[0;31m       \u001b[0;32mreturn\u001b[0m \u001b[0mfunc\u001b[0m\u001b[0;34m(\u001b[0m\u001b[0;34m*\u001b[0m\u001b[0margs\u001b[0m\u001b[0;34m,\u001b[0m \u001b[0;34m**\u001b[0m\u001b[0mkwargs\u001b[0m\u001b[0;34m)\u001b[0m\u001b[0;34m\u001b[0m\u001b[0;34m\u001b[0m\u001b[0m\n\u001b[0m\u001b[1;32m    164\u001b[0m \u001b[0;34m\u001b[0m\u001b[0m\n\u001b[1;32m    165\u001b[0m     \u001b[0;32mreturn\u001b[0m \u001b[0mwrapped\u001b[0m\u001b[0;34m\u001b[0m\u001b[0;34m\u001b[0m\u001b[0m\n",
      "\u001b[0;32m/usr/local/lib/python3.6/dist-packages/tensorflow/python/framework/ops.py\u001b[0m in \u001b[0;36mconvert_to_tensor\u001b[0;34m(value, dtype, name, as_ref, preferred_dtype, dtype_hint, ctx, accepted_result_types)\u001b[0m\n\u001b[1;32m   1538\u001b[0m \u001b[0;34m\u001b[0m\u001b[0m\n\u001b[1;32m   1539\u001b[0m     \u001b[0;32mif\u001b[0m \u001b[0mret\u001b[0m \u001b[0;32mis\u001b[0m \u001b[0;32mNone\u001b[0m\u001b[0;34m:\u001b[0m\u001b[0;34m\u001b[0m\u001b[0;34m\u001b[0m\u001b[0m\n\u001b[0;32m-> 1540\u001b[0;31m       \u001b[0mret\u001b[0m \u001b[0;34m=\u001b[0m \u001b[0mconversion_func\u001b[0m\u001b[0;34m(\u001b[0m\u001b[0mvalue\u001b[0m\u001b[0;34m,\u001b[0m \u001b[0mdtype\u001b[0m\u001b[0;34m=\u001b[0m\u001b[0mdtype\u001b[0m\u001b[0;34m,\u001b[0m \u001b[0mname\u001b[0m\u001b[0;34m=\u001b[0m\u001b[0mname\u001b[0m\u001b[0;34m,\u001b[0m \u001b[0mas_ref\u001b[0m\u001b[0;34m=\u001b[0m\u001b[0mas_ref\u001b[0m\u001b[0;34m)\u001b[0m\u001b[0;34m\u001b[0m\u001b[0;34m\u001b[0m\u001b[0m\n\u001b[0m\u001b[1;32m   1541\u001b[0m \u001b[0;34m\u001b[0m\u001b[0m\n\u001b[1;32m   1542\u001b[0m     \u001b[0;32mif\u001b[0m \u001b[0mret\u001b[0m \u001b[0;32mis\u001b[0m \u001b[0mNotImplemented\u001b[0m\u001b[0;34m:\u001b[0m\u001b[0;34m\u001b[0m\u001b[0;34m\u001b[0m\u001b[0m\n",
      "\u001b[0;32m/usr/local/lib/python3.6/dist-packages/tensorflow/python/framework/constant_op.py\u001b[0m in \u001b[0;36m_constant_tensor_conversion_function\u001b[0;34m(v, dtype, name, as_ref)\u001b[0m\n\u001b[1;32m    337\u001b[0m                                          as_ref=False):\n\u001b[1;32m    338\u001b[0m   \u001b[0m_\u001b[0m \u001b[0;34m=\u001b[0m \u001b[0mas_ref\u001b[0m\u001b[0;34m\u001b[0m\u001b[0;34m\u001b[0m\u001b[0m\n\u001b[0;32m--> 339\u001b[0;31m   \u001b[0;32mreturn\u001b[0m \u001b[0mconstant\u001b[0m\u001b[0;34m(\u001b[0m\u001b[0mv\u001b[0m\u001b[0;34m,\u001b[0m \u001b[0mdtype\u001b[0m\u001b[0;34m=\u001b[0m\u001b[0mdtype\u001b[0m\u001b[0;34m,\u001b[0m \u001b[0mname\u001b[0m\u001b[0;34m=\u001b[0m\u001b[0mname\u001b[0m\u001b[0;34m)\u001b[0m\u001b[0;34m\u001b[0m\u001b[0;34m\u001b[0m\u001b[0m\n\u001b[0m\u001b[1;32m    340\u001b[0m \u001b[0;34m\u001b[0m\u001b[0m\n\u001b[1;32m    341\u001b[0m \u001b[0;34m\u001b[0m\u001b[0m\n",
      "\u001b[0;32m/usr/local/lib/python3.6/dist-packages/tensorflow/python/framework/constant_op.py\u001b[0m in \u001b[0;36mconstant\u001b[0;34m(value, dtype, shape, name)\u001b[0m\n\u001b[1;32m    263\u001b[0m   \"\"\"\n\u001b[1;32m    264\u001b[0m   return _constant_impl(value, dtype, shape, name, verify_shape=False,\n\u001b[0;32m--> 265\u001b[0;31m                         allow_broadcast=True)\n\u001b[0m\u001b[1;32m    266\u001b[0m \u001b[0;34m\u001b[0m\u001b[0m\n\u001b[1;32m    267\u001b[0m \u001b[0;34m\u001b[0m\u001b[0m\n",
      "\u001b[0;32m/usr/local/lib/python3.6/dist-packages/tensorflow/python/framework/constant_op.py\u001b[0m in \u001b[0;36m_constant_impl\u001b[0;34m(value, dtype, shape, name, verify_shape, allow_broadcast)\u001b[0m\n\u001b[1;32m    274\u001b[0m       \u001b[0;32mwith\u001b[0m \u001b[0mtrace\u001b[0m\u001b[0;34m.\u001b[0m\u001b[0mTrace\u001b[0m\u001b[0;34m(\u001b[0m\u001b[0;34m\"tf.constant\"\u001b[0m\u001b[0;34m)\u001b[0m\u001b[0;34m:\u001b[0m\u001b[0;34m\u001b[0m\u001b[0;34m\u001b[0m\u001b[0m\n\u001b[1;32m    275\u001b[0m         \u001b[0;32mreturn\u001b[0m \u001b[0m_constant_eager_impl\u001b[0m\u001b[0;34m(\u001b[0m\u001b[0mctx\u001b[0m\u001b[0;34m,\u001b[0m \u001b[0mvalue\u001b[0m\u001b[0;34m,\u001b[0m \u001b[0mdtype\u001b[0m\u001b[0;34m,\u001b[0m \u001b[0mshape\u001b[0m\u001b[0;34m,\u001b[0m \u001b[0mverify_shape\u001b[0m\u001b[0;34m)\u001b[0m\u001b[0;34m\u001b[0m\u001b[0;34m\u001b[0m\u001b[0m\n\u001b[0;32m--> 276\u001b[0;31m     \u001b[0;32mreturn\u001b[0m \u001b[0m_constant_eager_impl\u001b[0m\u001b[0;34m(\u001b[0m\u001b[0mctx\u001b[0m\u001b[0;34m,\u001b[0m \u001b[0mvalue\u001b[0m\u001b[0;34m,\u001b[0m \u001b[0mdtype\u001b[0m\u001b[0;34m,\u001b[0m \u001b[0mshape\u001b[0m\u001b[0;34m,\u001b[0m \u001b[0mverify_shape\u001b[0m\u001b[0;34m)\u001b[0m\u001b[0;34m\u001b[0m\u001b[0;34m\u001b[0m\u001b[0m\n\u001b[0m\u001b[1;32m    277\u001b[0m \u001b[0;34m\u001b[0m\u001b[0m\n\u001b[1;32m    278\u001b[0m   \u001b[0mg\u001b[0m \u001b[0;34m=\u001b[0m \u001b[0mops\u001b[0m\u001b[0;34m.\u001b[0m\u001b[0mget_default_graph\u001b[0m\u001b[0;34m(\u001b[0m\u001b[0;34m)\u001b[0m\u001b[0;34m\u001b[0m\u001b[0;34m\u001b[0m\u001b[0m\n",
      "\u001b[0;32m/usr/local/lib/python3.6/dist-packages/tensorflow/python/framework/constant_op.py\u001b[0m in \u001b[0;36m_constant_eager_impl\u001b[0;34m(ctx, value, dtype, shape, verify_shape)\u001b[0m\n\u001b[1;32m    299\u001b[0m \u001b[0;32mdef\u001b[0m \u001b[0m_constant_eager_impl\u001b[0m\u001b[0;34m(\u001b[0m\u001b[0mctx\u001b[0m\u001b[0;34m,\u001b[0m \u001b[0mvalue\u001b[0m\u001b[0;34m,\u001b[0m \u001b[0mdtype\u001b[0m\u001b[0;34m,\u001b[0m \u001b[0mshape\u001b[0m\u001b[0;34m,\u001b[0m \u001b[0mverify_shape\u001b[0m\u001b[0;34m)\u001b[0m\u001b[0;34m:\u001b[0m\u001b[0;34m\u001b[0m\u001b[0;34m\u001b[0m\u001b[0m\n\u001b[1;32m    300\u001b[0m   \u001b[0;34m\"\"\"Implementation of eager constant.\"\"\"\u001b[0m\u001b[0;34m\u001b[0m\u001b[0;34m\u001b[0m\u001b[0m\n\u001b[0;32m--> 301\u001b[0;31m   \u001b[0mt\u001b[0m \u001b[0;34m=\u001b[0m \u001b[0mconvert_to_eager_tensor\u001b[0m\u001b[0;34m(\u001b[0m\u001b[0mvalue\u001b[0m\u001b[0;34m,\u001b[0m \u001b[0mctx\u001b[0m\u001b[0;34m,\u001b[0m \u001b[0mdtype\u001b[0m\u001b[0;34m)\u001b[0m\u001b[0;34m\u001b[0m\u001b[0;34m\u001b[0m\u001b[0m\n\u001b[0m\u001b[1;32m    302\u001b[0m   \u001b[0;32mif\u001b[0m \u001b[0mshape\u001b[0m \u001b[0;32mis\u001b[0m \u001b[0;32mNone\u001b[0m\u001b[0;34m:\u001b[0m\u001b[0;34m\u001b[0m\u001b[0;34m\u001b[0m\u001b[0m\n\u001b[1;32m    303\u001b[0m     \u001b[0;32mreturn\u001b[0m \u001b[0mt\u001b[0m\u001b[0;34m\u001b[0m\u001b[0;34m\u001b[0m\u001b[0m\n",
      "\u001b[0;32m/usr/local/lib/python3.6/dist-packages/tensorflow/python/framework/constant_op.py\u001b[0m in \u001b[0;36mconvert_to_eager_tensor\u001b[0;34m(value, ctx, dtype)\u001b[0m\n\u001b[1;32m     96\u001b[0m       \u001b[0mdtype\u001b[0m \u001b[0;34m=\u001b[0m \u001b[0mdtypes\u001b[0m\u001b[0;34m.\u001b[0m\u001b[0mas_dtype\u001b[0m\u001b[0;34m(\u001b[0m\u001b[0mdtype\u001b[0m\u001b[0;34m)\u001b[0m\u001b[0;34m.\u001b[0m\u001b[0mas_datatype_enum\u001b[0m\u001b[0;34m\u001b[0m\u001b[0;34m\u001b[0m\u001b[0m\n\u001b[1;32m     97\u001b[0m   \u001b[0mctx\u001b[0m\u001b[0;34m.\u001b[0m\u001b[0mensure_initialized\u001b[0m\u001b[0;34m(\u001b[0m\u001b[0;34m)\u001b[0m\u001b[0;34m\u001b[0m\u001b[0;34m\u001b[0m\u001b[0m\n\u001b[0;32m---> 98\u001b[0;31m   \u001b[0;32mreturn\u001b[0m \u001b[0mops\u001b[0m\u001b[0;34m.\u001b[0m\u001b[0mEagerTensor\u001b[0m\u001b[0;34m(\u001b[0m\u001b[0mvalue\u001b[0m\u001b[0;34m,\u001b[0m \u001b[0mctx\u001b[0m\u001b[0;34m.\u001b[0m\u001b[0mdevice_name\u001b[0m\u001b[0;34m,\u001b[0m \u001b[0mdtype\u001b[0m\u001b[0;34m)\u001b[0m\u001b[0;34m\u001b[0m\u001b[0;34m\u001b[0m\u001b[0m\n\u001b[0m\u001b[1;32m     99\u001b[0m \u001b[0;34m\u001b[0m\u001b[0m\n\u001b[1;32m    100\u001b[0m \u001b[0;34m\u001b[0m\u001b[0m\n",
      "\u001b[0;31mValueError\u001b[0m: Failed to convert a NumPy array to a Tensor (Unsupported object type numpy.ndarray)."
     ]
    }
   ],
   "source": [
    "import tensorflow as tf\n",
    "\n",
    "# print(target)\n",
    "n = 4000\n",
    "# t=np.asarray(target[: n]).astype(np.float32)\n",
    "# X=np.asarray(df_new['img_arr'][: n])\n",
    "X = df_new['img_arr'][: n]\n",
    "print(pd.DataFrame(X))\n",
    "# X = np.asarray(df_new['img_arr'][: n])\n",
    "# y=np.asarray(target[: n]).astype(np.float32)\n",
    "\n",
    "model.fit(pd.DataFrame(X), pd.DataFrame(target), batch_size=16, epochs=5, verbose=1, validation_split=0.1)"
   ]
  }
 ],
 "metadata": {
  "colab": {
   "collapsed_sections": [],
   "name": "CNN_Posters_ML.ipynb",
   "provenance": []
  },
  "kernelspec": {
   "display_name": "Python 3",
   "language": "python",
   "name": "python3"
  },
  "language_info": {
   "codemirror_mode": {
    "name": "ipython",
    "version": 3
   },
   "file_extension": ".py",
   "mimetype": "text/x-python",
   "name": "python",
   "nbconvert_exporter": "python",
   "pygments_lexer": "ipython3",
   "version": "3.8.3"
  }
 },
 "nbformat": 4,
 "nbformat_minor": 1
}
